{
 "cells": [
  {
   "cell_type": "markdown",
   "id": "e1f41c63-2289-412a-9fee-58a0e09df510",
   "metadata": {},
   "source": [
    "**Consider the below code to answer further questions:**\n",
    "\n",
    "import numpy as np\n",
    "\n",
    "list_ = [ ‘1’ , ’2’ , ‘3’ , ‘4’ , ‘5’ ]\n",
    "\n",
    "array_list = np.array(object = list_)"
   ]
  },
  {
   "cell_type": "markdown",
   "id": "aa033975-4c5d-4c74-9346-e60e45224e70",
   "metadata": {},
   "source": [
    "**Q1. Is there any difference in the data type of variables list_ and array_list? If there is then write a code\n",
    "to print the data types of both the variables.**"
   ]
  },
  {
   "cell_type": "code",
   "execution_count": 1,
   "id": "dd42fd16-259d-43c0-8acb-6b58a4ad0abf",
   "metadata": {},
   "outputs": [],
   "source": [
    "import numpy as np"
   ]
  },
  {
   "cell_type": "code",
   "execution_count": 13,
   "id": "8479f0f0-b44b-4fd7-a9ac-0440ce99fe85",
   "metadata": {},
   "outputs": [],
   "source": [
    "list_=['1','2','3','4','5']"
   ]
  },
  {
   "cell_type": "code",
   "execution_count": 14,
   "id": "efeb6fc3-8379-461d-93a8-e1b5535a8968",
   "metadata": {},
   "outputs": [
    {
     "data": {
      "text/plain": [
       "['1', '2', '3', '4', '5']"
      ]
     },
     "execution_count": 14,
     "metadata": {},
     "output_type": "execute_result"
    }
   ],
   "source": [
    "list_"
   ]
  },
  {
   "cell_type": "code",
   "execution_count": 15,
   "id": "f3bae9a0-3ccc-4180-bc04-39614e1a1abe",
   "metadata": {},
   "outputs": [],
   "source": [
    "array_list=np.array(object=list_)"
   ]
  },
  {
   "cell_type": "code",
   "execution_count": 16,
   "id": "e098e052-3627-4b74-87d7-1e496b92028a",
   "metadata": {},
   "outputs": [
    {
     "data": {
      "text/plain": [
       "array(['1', '2', '3', '4', '5'], dtype='<U1')"
      ]
     },
     "execution_count": 16,
     "metadata": {},
     "output_type": "execute_result"
    }
   ],
   "source": [
    "array_list"
   ]
  },
  {
   "cell_type": "code",
   "execution_count": 17,
   "id": "65494aca-4227-43ec-9923-0edd1bb5bf4d",
   "metadata": {},
   "outputs": [
    {
     "data": {
      "text/plain": [
       "list"
      ]
     },
     "execution_count": 17,
     "metadata": {},
     "output_type": "execute_result"
    }
   ],
   "source": [
    "type(list_)"
   ]
  },
  {
   "cell_type": "code",
   "execution_count": 18,
   "id": "add51840-e7f8-4b71-9df8-fa3dbc4c0979",
   "metadata": {},
   "outputs": [
    {
     "data": {
      "text/plain": [
       "numpy.ndarray"
      ]
     },
     "execution_count": 18,
     "metadata": {},
     "output_type": "execute_result"
    }
   ],
   "source": [
    "type(array_list)"
   ]
  },
  {
   "cell_type": "code",
   "execution_count": 19,
   "id": "e17eebfc-8ec7-46d6-80a4-410b8c57c5ae",
   "metadata": {},
   "outputs": [
    {
     "name": "stdout",
     "output_type": "stream",
     "text": [
      "Data type of list_: <class 'list'>\n",
      "Data type of array_list: <class 'numpy.ndarray'>\n"
     ]
    }
   ],
   "source": [
    "#another method\n",
    "\n",
    "print(f\"Data type of list_: {type(list_)}\")\n",
    "print(f\"Data type of array_list: {type(array_list)}\")"
   ]
  },
  {
   "cell_type": "markdown",
   "id": "44bb622d-7361-472b-bbcf-5c57feaf2141",
   "metadata": {},
   "source": [
    "**Q2. Write a code to print the data type of each and every element of both the variables list_ and\n",
    "arra_list.**"
   ]
  },
  {
   "cell_type": "code",
   "execution_count": 20,
   "id": "656cdbe8-4e62-404b-968d-ac10c40c38fe",
   "metadata": {},
   "outputs": [
    {
     "name": "stdout",
     "output_type": "stream",
     "text": [
      "Data types of elements in list_:\n",
      "<class 'str'>\n",
      "<class 'str'>\n",
      "<class 'str'>\n",
      "<class 'str'>\n",
      "<class 'str'>\n"
     ]
    }
   ],
   "source": [
    "print(\"Data types of elements in list_:\")\n",
    "for element in list_:\n",
    "    print(type(element))"
   ]
  },
  {
   "cell_type": "code",
   "execution_count": 21,
   "id": "d0b86e39-22fd-4832-89b5-b5d180c78440",
   "metadata": {},
   "outputs": [
    {
     "name": "stdout",
     "output_type": "stream",
     "text": [
      "\n",
      "Data types of elements in array_list:\n",
      "<class 'numpy.str_'>\n",
      "<class 'numpy.str_'>\n",
      "<class 'numpy.str_'>\n",
      "<class 'numpy.str_'>\n",
      "<class 'numpy.str_'>\n"
     ]
    }
   ],
   "source": [
    "print(\"\\nData types of elements in array_list:\")\n",
    "for element in array_list:\n",
    "    print(type(element))"
   ]
  },
  {
   "cell_type": "markdown",
   "id": "d11f4a9a-9572-40fd-82e6-1f0ca16856b7",
   "metadata": {},
   "source": [
    "**Q3. Considering the following changes in the variable, array_list:**\n",
    "\n",
    "array_list = np.array(object = list_, dtype = int)\n",
    "\n",
    "**Will there be any difference in the data type of the elements present in both the variables, list_ and\n",
    "arra_list? If so then print the data types of each and every element present in both the variables, list_\n",
    "and arra_list.**"
   ]
  },
  {
   "cell_type": "code",
   "execution_count": 22,
   "id": "7391f06d-1477-4a41-8a90-3a486dffc4cf",
   "metadata": {},
   "outputs": [],
   "source": [
    "array_list = np.array(object = list_, dtype = int)"
   ]
  },
  {
   "cell_type": "code",
   "execution_count": 23,
   "id": "69b50832-e2c9-4790-9005-641aacefb745",
   "metadata": {},
   "outputs": [
    {
     "data": {
      "text/plain": [
       "array([1, 2, 3, 4, 5])"
      ]
     },
     "execution_count": 23,
     "metadata": {},
     "output_type": "execute_result"
    }
   ],
   "source": [
    "array_list"
   ]
  },
  {
   "cell_type": "markdown",
   "id": "5eb98f77-b807-4555-9802-aaf12c38e4bb",
   "metadata": {},
   "source": [
    "**Yes, there will be a difference in the data types of the elements in list_ and array_list after setting dtype = int. The elements in list_ will remain as strings, while the elements in array_list will be converted to integers.**"
   ]
  },
  {
   "cell_type": "code",
   "execution_count": 24,
   "id": "dad28f52-1b81-4489-af8c-a7f4ea936907",
   "metadata": {},
   "outputs": [
    {
     "name": "stdout",
     "output_type": "stream",
     "text": [
      "Data types of elements in list_:\n",
      "<class 'str'>\n",
      "<class 'str'>\n",
      "<class 'str'>\n",
      "<class 'str'>\n",
      "<class 'str'>\n",
      "\n",
      "Data types of elements in array_list:\n",
      "<class 'numpy.int64'>\n",
      "<class 'numpy.int64'>\n",
      "<class 'numpy.int64'>\n",
      "<class 'numpy.int64'>\n",
      "<class 'numpy.int64'>\n"
     ]
    }
   ],
   "source": [
    "print(\"Data types of elements in list_:\")\n",
    "for element in list_:\n",
    "    print(type(element))\n",
    "print(\"\\nData types of elements in array_list:\")\n",
    "for element in array_list:\n",
    "    print(type(element))"
   ]
  },
  {
   "cell_type": "markdown",
   "id": "f0f61181-9bc9-4302-bc51-b64357171e8b",
   "metadata": {},
   "source": [
    "**Consider the below code to answer further questions:**\n",
    "\n",
    "import numpy as np\n",
    "\n",
    "num_list = [ [ 1 , 2 , 3 ] , [ 4 , 5 , 6 ] ]\n",
    "\n",
    "num_array = np.array(object = num_list)"
   ]
  },
  {
   "cell_type": "code",
   "execution_count": 25,
   "id": "465e646c-bd58-48ab-8dec-1ecf8808f351",
   "metadata": {},
   "outputs": [],
   "source": [
    "num_list = [ [ 1 , 2 , 3 ] , [ 4 , 5 , 6 ] ]"
   ]
  },
  {
   "cell_type": "code",
   "execution_count": 26,
   "id": "5196981d-6e51-4b1d-a9e4-d9eef690d004",
   "metadata": {},
   "outputs": [],
   "source": [
    "num_array = np.array(object = num_list)"
   ]
  },
  {
   "cell_type": "code",
   "execution_count": 27,
   "id": "326df940-54b8-40b0-94f9-7f13435a80ef",
   "metadata": {},
   "outputs": [
    {
     "data": {
      "text/plain": [
       "[[1, 2, 3], [4, 5, 6]]"
      ]
     },
     "execution_count": 27,
     "metadata": {},
     "output_type": "execute_result"
    }
   ],
   "source": [
    "num_list"
   ]
  },
  {
   "cell_type": "code",
   "execution_count": 28,
   "id": "ed3a2b77-ff04-4ab5-89dd-0a776d2b6969",
   "metadata": {},
   "outputs": [
    {
     "data": {
      "text/plain": [
       "array([[1, 2, 3],\n",
       "       [4, 5, 6]])"
      ]
     },
     "execution_count": 28,
     "metadata": {},
     "output_type": "execute_result"
    }
   ],
   "source": [
    "num_array"
   ]
  },
  {
   "cell_type": "markdown",
   "id": "e5c51a9e-3795-4023-a76e-6cf03d1fc07e",
   "metadata": {},
   "source": [
    "**Q4. Write a code to find the following characteristics of variable, num_array:**\n",
    "**(i) shape**\n",
    "**(ii) size**"
   ]
  },
  {
   "cell_type": "code",
   "execution_count": 29,
   "id": "4dc30cca-768c-43b3-8637-e1d4524bc879",
   "metadata": {},
   "outputs": [
    {
     "data": {
      "text/plain": [
       "(2, 3)"
      ]
     },
     "execution_count": 29,
     "metadata": {},
     "output_type": "execute_result"
    }
   ],
   "source": [
    "num_array.shape"
   ]
  },
  {
   "cell_type": "code",
   "execution_count": 30,
   "id": "55a2a221-3f29-42e0-8a1b-904beb2e3feb",
   "metadata": {},
   "outputs": [
    {
     "data": {
      "text/plain": [
       "6"
      ]
     },
     "execution_count": 30,
     "metadata": {},
     "output_type": "execute_result"
    }
   ],
   "source": [
    "num_array.size"
   ]
  },
  {
   "cell_type": "markdown",
   "id": "bcce5389-2d3f-428b-b672-e2ccea5d8ad7",
   "metadata": {},
   "source": [
    "**Q5. Write a code to create numpy array of 3*3 matrix containing zeros only, using a numpy array\n",
    "creation function.**\n",
    "\n",
    "[Hint: The size of the array will be 9 and the shape will be (3,3).]"
   ]
  },
  {
   "cell_type": "code",
   "execution_count": null,
   "id": "082855dc-b9d1-459f-bc78-4d62cdaee8b2",
   "metadata": {},
   "outputs": [],
   "source": [
    "zero_matrix=np.zeros((3,3))"
   ]
  },
  {
   "cell_type": "code",
   "execution_count": 32,
   "id": "f1342d1f-9069-4dac-a7d6-5c26d09a0786",
   "metadata": {},
   "outputs": [
    {
     "data": {
      "text/plain": [
       "array([[0., 0., 0.],\n",
       "       [0., 0., 0.],\n",
       "       [0., 0., 0.]])"
      ]
     },
     "execution_count": 32,
     "metadata": {},
     "output_type": "execute_result"
    }
   ],
   "source": [
    "zero_matrix"
   ]
  },
  {
   "cell_type": "code",
   "execution_count": 33,
   "id": "18ac9b41-9915-4472-b45e-94ac9526ab3b",
   "metadata": {},
   "outputs": [
    {
     "data": {
      "text/plain": [
       "9"
      ]
     },
     "execution_count": 33,
     "metadata": {},
     "output_type": "execute_result"
    }
   ],
   "source": [
    "zero_matrix.size"
   ]
  },
  {
   "cell_type": "code",
   "execution_count": 34,
   "id": "c3047793-3ed4-4216-bfe7-9638ab881fee",
   "metadata": {},
   "outputs": [
    {
     "data": {
      "text/plain": [
       "(3, 3)"
      ]
     },
     "execution_count": 34,
     "metadata": {},
     "output_type": "execute_result"
    }
   ],
   "source": [
    "zero_matrix.shape"
   ]
  },
  {
   "cell_type": "markdown",
   "id": "4f4a767c-9357-4f9c-ba5e-89e446c4dfb5",
   "metadata": {},
   "source": [
    "**Q6. Create an identity matrix of shape (5,5) using numpy functions?**\n",
    "\n",
    "[Hint: An identity matrix is a matrix containing 1 diagonally and other elements will be 0.]"
   ]
  },
  {
   "cell_type": "code",
   "execution_count": 35,
   "id": "b8259c9b-7135-4cf4-abc3-610e6cdbc461",
   "metadata": {},
   "outputs": [],
   "source": [
    "identity_mat=np.eye(5)"
   ]
  },
  {
   "cell_type": "code",
   "execution_count": 36,
   "id": "586c2308-4810-4a2f-8afc-29df24875cf9",
   "metadata": {},
   "outputs": [
    {
     "data": {
      "text/plain": [
       "array([[1., 0., 0., 0., 0.],\n",
       "       [0., 1., 0., 0., 0.],\n",
       "       [0., 0., 1., 0., 0.],\n",
       "       [0., 0., 0., 1., 0.],\n",
       "       [0., 0., 0., 0., 1.]])"
      ]
     },
     "execution_count": 36,
     "metadata": {},
     "output_type": "execute_result"
    }
   ],
   "source": [
    "identity_mat"
   ]
  },
  {
   "cell_type": "code",
   "execution_count": null,
   "id": "2b15e09f-c772-479b-9e1e-6d0395dbf0b6",
   "metadata": {},
   "outputs": [],
   "source": []
  },
  {
   "cell_type": "code",
   "execution_count": null,
   "id": "2dc2b186-a6da-429d-a76a-b0b504b6085e",
   "metadata": {},
   "outputs": [],
   "source": []
  }
 ],
 "metadata": {
  "kernelspec": {
   "display_name": "Python 3 (ipykernel)",
   "language": "python",
   "name": "python3"
  },
  "language_info": {
   "codemirror_mode": {
    "name": "ipython",
    "version": 3
   },
   "file_extension": ".py",
   "mimetype": "text/x-python",
   "name": "python",
   "nbconvert_exporter": "python",
   "pygments_lexer": "ipython3",
   "version": "3.10.8"
  }
 },
 "nbformat": 4,
 "nbformat_minor": 5
}
